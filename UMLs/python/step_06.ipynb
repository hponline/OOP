{
 "cells": [
  {
   "cell_type": "code",
   "execution_count": 14,
   "metadata": {},
   "outputs": [],
   "source": [
    "class Product:\n",
    "    def __init__(self, name:str = \"Default\", price:float = 0, quantity:int = 1) -> None:\n",
    "        print(f\"An instance with name: {name} has been derived from Product class.\")\n",
    "        self.__name = name\n",
    "        self.__price = price\n",
    "        self.__quantity = quantity\n",
    "    \n",
    "# Okuma blogu\n",
    "    @property\n",
    "    def name(self):\n",
    "        return self.__name\n",
    "    \n",
    "    @property\n",
    "    def price(self):\n",
    "        return self.__price\n",
    "\n",
    "    @property\n",
    "    def quantity(self):\n",
    "        return self.__quantity  \n",
    "    \n",
    "# Yazma blogu\n",
    "    @name.setter\n",
    "    def name(self,value):\n",
    "        self.__name = value\n",
    "\n",
    "    @price.setter\n",
    "    def price(self,value):\n",
    "        self.__price = value    \n",
    "    \n",
    "    @quantity.setter\n",
    "    def quantity(self,value):\n",
    "        self.__quantity = value  \n",
    "    \n",
    "    \n",
    "    def get_total_price(self)-> float:\n",
    "        return self.__price * self.__quantity\n",
    "  \n",
    "        "
   ]
  },
  {
   "cell_type": "code",
   "execution_count": 15,
   "metadata": {},
   "outputs": [
    {
     "name": "stdout",
     "output_type": "stream",
     "text": [
      "An instance with name: Laptop has been derived from Product class.\n",
      "Ürün adı Monster\n",
      "Ürün fiyatı 10000\n",
      "Ürün miktarı 2\n",
      "20000\n"
     ]
    }
   ],
   "source": [
    "item1 = Product(\"Laptop\",7000,2)\n",
    "item1.name = \"Monster\"\n",
    "item1.price += 3000\n",
    "print(\"Ürün adı\",item1.name)\n",
    "print(\"Ürün fiyatı\",item1.price)\n",
    "print(\"Ürün miktarı\",item1.quantity)\n",
    "\n",
    "print(item1.get_total_price())"
   ]
  },
  {
   "cell_type": "code",
   "execution_count": 16,
   "metadata": {},
   "outputs": [
    {
     "name": "stdout",
     "output_type": "stream",
     "text": [
      "An instance with name: Nvidia has been derived from Product class.\n",
      "Ürün adı Nvidia\n",
      "Fiyatı 17000\n",
      "Miktarı 8\n"
     ]
    }
   ],
   "source": [
    "item2 = Product(\"Nvidia\",15000,8)\n",
    "item2.price += 2000 \n",
    "print(\"Ürün adı\",item2.name)\n",
    "print(\"Fiyatı\",item2.price)\n",
    "print(\"Miktarı\",item2.quantity)"
   ]
  },
  {
   "cell_type": "code",
   "execution_count": 17,
   "metadata": {},
   "outputs": [
    {
     "name": "stdout",
     "output_type": "stream",
     "text": [
      "An instance with name: Keyboard has been derived from Product class.\n",
      "Keyboard\n",
      "1200\n",
      "1\n"
     ]
    }
   ],
   "source": [
    "item3 = Product(\"Keyboard\",1200)\n",
    "print(item3.name)\n",
    "print(item3.price)\n",
    "print(item3.quantity)"
   ]
  },
  {
   "cell_type": "code",
   "execution_count": null,
   "metadata": {},
   "outputs": [],
   "source": []
  }
 ],
 "metadata": {
  "kernelspec": {
   "display_name": "Python 3",
   "language": "python",
   "name": "python3"
  },
  "language_info": {
   "codemirror_mode": {
    "name": "ipython",
    "version": 3
   },
   "file_extension": ".py",
   "mimetype": "text/x-python",
   "name": "python",
   "nbconvert_exporter": "python",
   "pygments_lexer": "ipython3",
   "version": "3.11.4"
  },
  "orig_nbformat": 4
 },
 "nbformat": 4,
 "nbformat_minor": 2
}
